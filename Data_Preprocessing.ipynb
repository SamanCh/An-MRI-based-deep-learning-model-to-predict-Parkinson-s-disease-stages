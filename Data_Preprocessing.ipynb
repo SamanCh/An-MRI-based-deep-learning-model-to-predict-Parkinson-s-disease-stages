{
  "cells": [
    {
      "cell_type": "code",
      "execution_count": null,
      "metadata": {
        "colab": {
          "base_uri": "https://localhost:8080/"
        },
        "id": "k4IXbG2L0qLa",
        "outputId": "d44e855d-e03f-4f91-d930-abe0fb40105c"
      },
      "outputs": [
        {
          "name": "stdout",
          "output_type": "stream",
          "text": [
            "Mounted at /content/drive\n"
          ]
        }
      ],
      "source": [
        "from google.colab import drive\n",
        "drive.mount('/content/drive')"
      ]
    },
    {
      "cell_type": "code",
      "execution_count": null,
      "metadata": {
        "id": "TzQfUHLw4wco"
      },
      "outputs": [],
      "source": [
        "from sklearn.model_selection import train_test_split\n",
        "import matplotlib.pyplot as plt\n",
        "import numpy as np\n",
        "import glob\n",
        "import cv2\n",
        "from skimage.io import imread\n",
        "import matplotlib.pyplot as plt\n",
        "from sklearn.metrics import roc_curve\n",
        "from sklearn.metrics import confusion_matrix\n",
        "from sklearn.metrics import classification_report\n"
      ]
    },
    {
      "cell_type": "code",
      "execution_count": null,
      "metadata": {
        "id": "gykJjHm94yyr"
      },
      "outputs": [],
      "source": [
        "def NetPlot(net_histories,n_epch):\n",
        "    import numpy as np\n",
        "    import matplotlib.pyplot as plt\n",
        "\n",
        "    losses=[]\n",
        "    val_losses=[]\n",
        "    accuracies=[]\n",
        "    val_accuracies=[]\n",
        "\n",
        "    for item in net_histories:\n",
        "\n",
        "        history=item.history\n",
        "        loss=history['loss']\n",
        "        val_loss=history['val_loss']\n",
        "        accuracy=history['accuracy']\n",
        "        val_accuracy=history['val_accuracy']\n",
        "\n",
        "        losses.append(loss)\n",
        "        val_losses.append(val_loss)\n",
        "        accuracies.append(accuracy)\n",
        "        val_accuracies.append(val_accuracy)\n",
        "\n",
        "\n",
        "    losses2=np.zeros((1,n_epch))\n",
        "    val_losses2=np.zeros((1,n_epch))\n",
        "    accuracies2=np.zeros((1,n_epch))\n",
        "    val_accuracies2=np.zeros((1,n_epch))\n",
        "\n",
        "    for i in losses:\n",
        "        losses2+=i\n",
        "\n",
        "    for i in val_losses:\n",
        "        val_losses2+=i\n",
        "\n",
        "    for i in accuracies:\n",
        "        accuracies2+=i\n",
        "\n",
        "    for i in val_accuracies:\n",
        "        val_accuracies2+=i\n",
        "\n",
        "\n",
        "    # 10 is number of folds\n",
        "    losses2=(losses2/5).flatten()\n",
        "    accuracies2=(accuracies2/5).flatten()\n",
        "    val_losses2=(val_losses2/5).flatten()\n",
        "    val_accuracies2=(val_accuracies2/5).flatten()\n",
        "\n",
        "    plt.figure('Accracy Diagram')\n",
        "    plt.xlabel('Epochs')\n",
        "    plt.ylabel('Accuracy')\n",
        "    plt.plot(accuracies2,color='red')\n",
        "    plt.plot(val_accuracies2,color='blue')\n",
        "    plt.legend(['Train Data','Validation Data'])\n",
        "    plt.savefig('Accracy Diagram')\n",
        "    plt.show()\n",
        "\n",
        "    plt.figure('Loss Diagram')\n",
        "    plt.xlabel('Epochs')\n",
        "    plt.ylabel('Loss')\n",
        "    plt.plot(losses2,color='red')\n",
        "    plt.plot(val_losses2,color='blue')\n",
        "    plt.legend(['Train Data','Validation Data'])\n",
        "    plt.savefig('Loss Diagram')\n",
        "    plt.show()\n"
      ]
    },
    {
      "cell_type": "code",
      "execution_count": null,
      "metadata": {
        "colab": {
          "base_uri": "https://localhost:8080/"
        },
        "id": "xaKAUHAF43Qz",
        "outputId": "be6a178c-35cb-434a-f218-7a1c35f12b11"
      },
      "outputs": [
        {
          "name": "stdout",
          "output_type": "stream",
          "text": [
            "len control is:  3724\n",
            "len prodromal is:  9632\n",
            "len s1 is:  1747\n",
            "len s2 is:  7471\n",
            "len s3 is:  2406\n"
          ]
        },
        {
          "data": {
            "text/plain": [
              "0.1470729999999998"
            ]
          },
          "execution_count": 4,
          "metadata": {
            "tags": []
          },
          "output_type": "execute_result"
        }
      ],
      "source": [
        "import time\n",
        "tic = time.clock()\n",
        "\n",
        "path_control='//content/drive/My Drive/parkinson-machine learning/JPG.Control/'\n",
        "path_stg1='/content/drive/My Drive/parkinson-machine learning/JPG.STG1/'\n",
        "path_stg2='/content/drive/My Drive/parkinson-machine learning/JPG.STG 2/'\n",
        "path_stg3='/content/drive/My Drive/parkinson-machine learning/JPG.STG 3/'\n",
        "path_prodromal='/content/drive/My Drive/parkinson-machine learning/JPG.PRODROMAL/'\n",
        "\n",
        "\n",
        "addresses_control=glob.glob(path_control+'*.jpg')\n",
        "addresses_stg1=glob.glob(path_stg1+'*.jpg')\n",
        "addresses_stg2=glob.glob(path_stg2+'*.jpg')\n",
        "addresses_stg3=glob.glob(path_stg3+'*.jpg')\n",
        "addresses_prodromal=glob.glob(path_prodromal+'*.jpg')\n",
        "\n",
        "\n",
        "print('len control is: ',len(addresses_control))\n",
        "print('len prodromal is: ',len(addresses_prodromal))\n",
        "print('len s1 is: ',len(addresses_stg1))\n",
        "print('len s2 is: ',len(addresses_stg2))\n",
        "print('len s3 is: ',len(addresses_stg3))\n",
        "\n",
        "\n",
        "toc = time.clock()\n",
        "toc - tic\n"
      ]
    },
    {
      "cell_type": "code",
      "execution_count": null,
      "metadata": {
        "colab": {
          "base_uri": "https://localhost:8080/"
        },
        "id": "0EhtZXhfBqLh",
        "outputId": "a24549d0-047f-4927-d21c-050296c9f4a7"
      },
      "outputs": [
        {
          "name": "stdout",
          "output_type": "stream",
          "text": [
            "the number of images in control is: 3663\n"
          ]
        },
        {
          "data": {
            "text/plain": [
              "18.176975"
            ]
          },
          "execution_count": 5,
          "metadata": {
            "tags": []
          },
          "output_type": "execute_result"
        }
      ],
      "source": [
        "######### reading images\n",
        "import time\n",
        "tic = time.clock()\n",
        "\n",
        "\n",
        "control=[]\n",
        "label_control=[]\n",
        "for i in addresses_control:\n",
        "  img_control=cv2.imread(i)\n",
        "  img_control=cv2.cvtColor(img_control,cv2.COLOR_BGR2GRAY)\n",
        "  img_control=cv2.resize( img_control,(100,100))\n",
        "  img_control=img_control.astype('float32')\n",
        "  img_control=img_control.flatten()\n",
        "  if np.max(img_control)!=0:\n",
        "    img_control=img_control/np.max(img_control)\n",
        "    control.append(img_control)\n",
        "    label_control.append(0)\n",
        "\n",
        "#control = np.array(control)\n",
        "#np.save('cntrl.npy', control)\n",
        "#np.save('cntrl_label', label_control)\n",
        "\n",
        "#from google.colab import files\n",
        "#files.download('cntrl.npy')\n",
        "\n",
        "#control = np.load(\"cntrl.npy\")\n",
        "#label_control = np.load('cntrl_label')\n",
        "\n",
        "print(f'the number of images in control is: {len(control)}')\n",
        "toc = time.clock()\n",
        "toc - tic"
      ]
    },
    {
      "cell_type": "code",
      "execution_count": null,
      "metadata": {
        "colab": {
          "base_uri": "https://localhost:8080/"
        },
        "id": "5nINGCOgB6iM",
        "outputId": "7a2796c6-b798-4fb8-b4b9-69918941580c"
      },
      "outputs": [
        {
          "name": "stdout",
          "output_type": "stream",
          "text": [
            "the number of images in stage 1 is: 1739\n"
          ]
        },
        {
          "data": {
            "text/plain": [
              "7.762250000000002"
            ]
          },
          "execution_count": 6,
          "metadata": {
            "tags": []
          },
          "output_type": "execute_result"
        }
      ],
      "source": [
        "tic = time.clock()\n",
        "stg1=[]\n",
        "label_stg1=[]\n",
        "for i in addresses_stg1:\n",
        "  img_stg1=cv2.imread(i)\n",
        "  img_stg1=cv2.cvtColor( img_stg1,cv2.COLOR_BGR2GRAY)\n",
        "  img_stg1=cv2.resize( img_stg1,(100,100))\n",
        "  img_stg1=img_stg1.astype('float32')\n",
        "  img_stg1=img_stg1.flatten()\n",
        "  if np.max(img_stg1)!=0:\n",
        "    img_stg1=img_stg1/np.max(img_stg1)\n",
        "    stg1.append(img_stg1)\n",
        "    label_stg1.append(1)\n",
        "\n",
        "#stg1 = np.array(stg1)\n",
        "#np.save('stg1.npy', stg1)\n",
        "#np.save('label_stg1.npy', label_stg1)\n",
        "\n",
        "#stg1 = np.load(\"stg1.npy\")\n",
        "#label_stg1 = np.load(label_stg1.npy)\n",
        "\n",
        "print(f'the number of images in stage 1 is: {len(stg1)}')\n",
        "toc = time.clock()\n",
        "toc - tic"
      ]
    },
    {
      "cell_type": "code",
      "execution_count": null,
      "metadata": {
        "colab": {
          "base_uri": "https://localhost:8080/"
        },
        "id": "ZwttvT5b6xx2",
        "outputId": "80d0f094-ceec-423f-bbf6-df9c67e4b2a9"
      },
      "outputs": [
        {
          "name": "stdout",
          "output_type": "stream",
          "text": [
            "the number of images in stage 2 is: 7471\n"
          ]
        },
        {
          "data": {
            "text/plain": [
              "33.674769999999995"
            ]
          },
          "execution_count": 7,
          "metadata": {
            "tags": []
          },
          "output_type": "execute_result"
        }
      ],
      "source": [
        "tic = time.clock()\n",
        "stg2=[]\n",
        "label_stg2=[]\n",
        "for i in addresses_stg2:\n",
        "  img_stg2=cv2.imread(i)\n",
        "  img_stg2=cv2.cvtColor(img_stg2,cv2.COLOR_BGR2GRAY)\n",
        "  img_stg2=cv2.resize(img_stg2,(100,100))\n",
        "  img_stg2=img_stg2.astype('float32')\n",
        "  img_stg2=img_stg2.flatten()\n",
        "  if np.max(img_stg2)!=0:\n",
        "    img_stg2=img_stg2/np.max(img_stg2)\n",
        "    stg2.append(img_stg2)\n",
        "    label_stg2.append(2)\n",
        "\n",
        "#stg2 = np.array(stg2)\n",
        "#np.save('stg2.npy', stg2)\n",
        "#np.save('label_stg2.npy',label_stg2)\n",
        "\n",
        "\n",
        "#stg2 = np.load(\"stg2.npy\")\n",
        "#label_stg2 = np.load(label_stg2.npy)\n",
        "\n",
        "print(f'the number of images in stage 2 is: {len(stg2)}')\n",
        "toc = time.clock()\n",
        "toc - tic"
      ]
    },
    {
      "cell_type": "code",
      "execution_count": null,
      "metadata": {
        "colab": {
          "base_uri": "https://localhost:8080/"
        },
        "id": "4x5TS6EC61ry",
        "outputId": "fda757af-de70-4ab5-a65a-4ffae24463cb"
      },
      "outputs": [
        {
          "name": "stdout",
          "output_type": "stream",
          "text": [
            "the number of images in stage 3 is: 2405\n"
          ]
        },
        {
          "data": {
            "text/plain": [
              "12.35040699999999"
            ]
          },
          "execution_count": 8,
          "metadata": {
            "tags": []
          },
          "output_type": "execute_result"
        }
      ],
      "source": [
        "tic = time.clock()\n",
        "stg3=[]\n",
        "label_stg3=[]\n",
        "for i in addresses_stg3:\n",
        "  img_stg3=cv2.imread(i)\n",
        "  img_stg3=cv2.cvtColor(img_stg3,cv2.COLOR_BGR2GRAY)\n",
        "  img_stg3=cv2.resize(img_stg3,(100,100))\n",
        "  img_stg3=img_stg3.astype('float32')\n",
        "  img_stg3=img_stg3.flatten()\n",
        "  if np.max(img_stg3)!=0:\n",
        "    img_stg3=img_stg3/np.max(img_stg3)\n",
        "    stg3.append(img_stg3)\n",
        "    label_stg3.append(3)\n",
        "\n",
        "#stg3 = np.array(stg3)\n",
        "#np.save('stg3.npy', stg3)\n",
        "#np.save('label_stg3.npy', label_stg3)\n",
        "\n",
        "#stg3 = np.load(\"stg3.npy\")\n",
        "#label_stg3 = np.load('label_stg3.npy')\n",
        "\n",
        "print(f'the number of images in stage 3 is: {len(stg3)}')\n",
        "toc = time.clock()\n",
        "toc - tic"
      ]
    },
    {
      "cell_type": "code",
      "execution_count": null,
      "metadata": {
        "colab": {
          "base_uri": "https://localhost:8080/"
        },
        "id": "rpAvH0RV667s",
        "outputId": "0e22a19e-0f64-4204-83ed-6b69b8574d7f"
      },
      "outputs": [
        {
          "name": "stdout",
          "output_type": "stream",
          "text": [
            "the number of images in prodromal is: 9623\n"
          ]
        },
        {
          "data": {
            "text/plain": [
              "45.23157599999999"
            ]
          },
          "execution_count": 9,
          "metadata": {
            "tags": []
          },
          "output_type": "execute_result"
        }
      ],
      "source": [
        "tic = time.clock()\n",
        "prodromal=[]\n",
        "label_prodromal=[]\n",
        "for i in addresses_prodromal:\n",
        "  img_prodromal=cv2.imread(i)\n",
        "  img_prodromal=cv2.cvtColor(img_prodromal,cv2.COLOR_BGR2GRAY)\n",
        "  img_prodromal=cv2.resize( img_prodromal,(100,100))\n",
        "  img_prodromal=img_prodromal.astype('float32')\n",
        "  img_prodromal=img_prodromal.flatten()\n",
        "  if np.max(img_prodromal)!=0:\n",
        "    img_prodromal=img_prodromal/np.max(img_prodromal)\n",
        "    prodromal.append(img_prodromal)\n",
        "    label_prodromal.append(4)\n",
        "\n",
        "#prodromal = np.array(prodromal)\n",
        "#np.save('prodromal.npy', prodromal)\n",
        "#np.save('label_prodromal.npy', label_prodromal)\n",
        "\n",
        "#prodromal = np.load(\"prodromal.npy\")\n",
        "#label_prodromal = np.load('label_prodromal.npy')\n",
        "\n",
        "print(f'the number of images in prodromal is: {len(prodromal)}')\n",
        "toc = time.clock()\n",
        "toc - tic"
      ]
    },
    {
      "cell_type": "code",
      "execution_count": null,
      "metadata": {
        "id": "6VyLjFsX69wE"
      },
      "outputs": [],
      "source": [
        "tic = time.clock()\n",
        "stg1.extend(stg2)\n",
        "stg1.extend(stg3)\n",
        "stg1.extend(control)\n",
        "stg1.extend(prodromal)\n",
        "\n",
        "\n",
        "\n",
        "#print(len(stg1))\n",
        "\n",
        "label_stg1.extend(label_stg2)\n",
        "label_stg1.extend(label_stg3)\n",
        "label_stg1.extend(label_control)\n",
        "label_stg1.extend(label_prodromal)\n",
        "\n",
        "\n",
        "\n",
        "\n",
        "#print(len(label_stg1))\n",
        "\n",
        "x_data=stg1\n",
        "y_data=label_stg1\n",
        "\n",
        "x_data=np.array(x_data)\n",
        "y_data=np.array(y_data)\n",
        "\n",
        "\n",
        "np.save('x_data.npy', x_data)\n",
        "np.save('y_data.npy', y_data)\n",
        "\n",
        "######################\n",
        "\n",
        "x_data = np.load(\"x_data.npy\")\n",
        "y_data = np.load('y_data.npy')\n",
        "\n",
        "#######################\n",
        "\n",
        "\n",
        "toc = time.clock()\n",
        "toc - tic"
      ]
    },
    {
      "cell_type": "code",
      "execution_count": null,
      "metadata": {
        "id": "A9KlGDS-xm2a"
      },
      "outputs": [],
      "source": [
        "x_data= np.load('/content/drive/MyDrive/Papers/Par/x_data.npy')\n",
        "y_data= np.load('/content/drive/MyDrive/Papers/Par/y_data.npy')"
      ]
    },
    {
      "cell_type": "code",
      "execution_count": null,
      "metadata": {
        "colab": {
          "base_uri": "https://localhost:8080/"
        },
        "id": "kWdFADyV7BCe",
        "outputId": "f0fcae03-3e2d-4c81-bfe8-45ad2dc97948"
      },
      "outputs": [
        {
          "name": "stdout",
          "output_type": "stream",
          "text": [
            "(24901, 10000)\n",
            "(24901,)\n"
          ]
        }
      ],
      "source": [
        "print(x_data.shape)\n",
        "print(y_data.shape)\n",
        "#(24901, 10000)\n",
        "#(24901,)"
      ]
    }
  ],
  "metadata": {
    "accelerator": "TPU",
    "colab": {
      "provenance": []
    },
    "kernelspec": {
      "display_name": "Python 3",
      "name": "python3"
    }
  },
  "nbformat": 4,
  "nbformat_minor": 0
}
